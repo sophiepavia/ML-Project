{
 "cells": [
  {
   "cell_type": "markdown",
   "metadata": {},
   "source": [
    "# LDA with Gibbs Sampling"
   ]
  },
  {
   "cell_type": "markdown",
   "metadata": {},
   "source": [
    "## Import Libraries"
   ]
  },
  {
   "cell_type": "code",
   "execution_count": null,
   "metadata": {},
   "outputs": [],
   "source": [
    "from scipy.special import psi, polygamma, gammaln\n",
    "import numpy as np\n",
    "import matplotlib.pyplot as plt\n",
    "import seaborn as sns\n",
    "import spacy\n",
    "spacy.load('en_core_web_sm')\n",
    "from spacy.lang.en import English\n",
    "import nltk\n",
    "from nltk.corpus import reuters, wordnet as wn\n",
    "from nltk.corpus import stopwords\n",
    "import os\n",
    "from LDA import LDA_sample"
   ]
  },
  {
   "cell_type": "markdown",
   "metadata": {},
   "source": [
    "## Data Preprocessing"
   ]
  },
  {
   "cell_type": "code",
   "execution_count": null,
   "metadata": {},
   "outputs": [],
   "source": [
    "stops = stopwords.words(\"english\")\n",
    "# Add additional stop words\n",
    "stops += [\n",
    "    \"a\", \"about\", \"above\", \"across\", \"after\", \"afterwards\", \"again\", \"against\",\n",
    "    \"all\", \"almost\", \"alone\", \"along\", \"already\", \"also\", \"although\", \"always\",\n",
    "    \"am\", \"among\", \"amongst\", \"amoungst\", \"amount\", \"an\", \"and\", \"another\",\n",
    "    \"any\", \"anyhow\", \"anyone\", \"anything\", \"anyway\", \"anywhere\", \"are\",\n",
    "    \"around\", \"as\", \"at\", \"back\", \"be\", \"became\", \"because\", \"become\",\n",
    "    \"becomes\", \"becoming\", \"been\", \"before\", \"beforehand\", \"behind\", \"being\",\n",
    "    \"below\", \"beside\", \"besides\", \"between\", \"beyond\", \"bill\", \"both\",\n",
    "    \"bottom\", \"but\", \"by\", \"call\", \"can\", \"cannot\", \"cant\", \"co\", \"con\",\n",
    "    \"could\", \"couldnt\", \"cry\", \"de\", \"describe\", \"detail\", \"do\", \"done\",\n",
    "    \"down\", \"due\", \"during\", \"each\", \"eg\", \"eight\", \"either\", \"eleven\", \"else\",\n",
    "    \"elsewhere\", \"empty\", \"enough\", \"etc\", \"even\", \"ever\", \"every\", \"everyone\",\n",
    "    \"everything\", \"everywhere\", \"except\", \"few\", \"fifteen\", \"fifty\", \"fill\",\n",
    "    \"find\", \"fire\", \"first\", \"five\", \"for\", \"former\", \"formerly\", \"forty\",\n",
    "    \"found\", \"four\", \"from\", \"front\", \"full\", \"further\", \"get\", \"give\", \"go\",\n",
    "    \"had\", \"has\", \"hasnt\", \"have\", \"he\", \"hence\", \"her\", \"here\", \"hereafter\",\n",
    "    \"hereby\", \"herein\", \"hereupon\", \"hers\", \"herself\", \"him\", \"himself\", \"his\",\n",
    "    \"how\", \"however\", \"hundred\", \"i\", \"ie\", \"if\", \"in\", \"inc\", \"indeed\",\n",
    "    \"interest\", \"into\", \"is\", \"it\", \"its\", \"itself\", \"keep\", \"last\", \"latter\",\n",
    "    \"latterly\", \"least\", \"less\", \"ltd\", \"made\", \"many\", \"may\", \"me\",\n",
    "    \"meanwhile\", \"might\", \"mill\", \"mine\", \"more\", \"moreover\", \"most\", \"mostly\",\n",
    "    \"move\", \"much\", \"must\", \"my\", \"myself\", \"name\", \"namely\", \"neither\",\n",
    "    \"never\", \"nevertheless\", \"next\", \"nine\", \"no\", \"nobody\", \"none\", \"noone\",\n",
    "    \"nor\", \"not\", \"nothing\", \"now\", \"nowhere\", \"of\", \"off\", \"often\", \"on\",\n",
    "    \"once\", \"one\", \"only\", \"onto\", \"or\", \"other\", \"others\", \"otherwise\", \"our\",\n",
    "    \"ours\", \"ourselves\", \"out\", \"over\", \"own\", \"part\", \"per\", \"perhaps\",\n",
    "    \"please\", \"put\", \"rather\", \"re\", \"same\", \"see\", \"seem\", \"seemed\"\n",
    "]"
   ]
  },
  {
   "cell_type": "code",
   "execution_count": null,
   "metadata": {},
   "outputs": [],
   "source": [
    "def get_lemma(word):\n",
    "    lemma = wn.morphy(word)\n",
    "    if lemma is None:\n",
    "        return word\n",
    "    else:\n",
    "        return lemma"
   ]
  },
  {
   "cell_type": "markdown",
   "metadata": {},
   "source": [
    "### Dataset 1: NLTK reuters\n",
    "    a dataset of new articles, using the titles"
   ]
  },
  {
   "cell_type": "code",
   "execution_count": null,
   "metadata": {},
   "outputs": [],
   "source": [
    "# fetch titles only, 2000 docs only \n",
    "dataset = []\n",
    "vocab = []\n",
    "\n",
    "i = 0\n",
    "for file_id in reuters.fileids():\n",
    "    \n",
    "    doc = [get_lemma(w.lower()) for w in reuters.words(file_id) \\\n",
    "                 if (w.isupper()) \\\n",
    "                 if (w.lower() not in stops) \\\n",
    "                 and (not w.isnumeric())]\n",
    "    if doc:\n",
    "        doc = [t for t in doc if len(t) > 1]\n",
    "        dataset.append(doc)\n",
    "        vocab += doc\n",
    "        i += 1\n",
    "\n",
    "    if i >= 2000:\n",
    "        break\n",
    "\n",
    "dataset = [[token for token in sublist if len(token) > 1] for sublist in dataset]"
   ]
  },
  {
   "cell_type": "code",
   "execution_count": null,
   "metadata": {},
   "outputs": [],
   "source": [
    "print(len(dataset))"
   ]
  },
  {
   "cell_type": "code",
   "execution_count": null,
   "metadata": {},
   "outputs": [],
   "source": [
    "dataset"
   ]
  },
  {
   "cell_type": "markdown",
   "metadata": {},
   "source": [
    "### Dataset 2: dataset.csv\n",
    "    a dataset of research paper titles"
   ]
  },
  {
   "cell_type": "code",
   "execution_count": null,
   "metadata": {},
   "outputs": [],
   "source": [
    "parser = English()\n",
    "def tokenize(text):\n",
    "    lda_tokens = []\n",
    "    tokens = parser(text)\n",
    "    for token in tokens:\n",
    "        if token.orth_.isspace():\n",
    "            continue\n",
    "        elif token.like_url:\n",
    "            lda_tokens.append('URL')\n",
    "        else:\n",
    "            lda_tokens.append(token.lower_)\n",
    "    return lda_tokens"
   ]
  },
  {
   "cell_type": "code",
   "execution_count": null,
   "metadata": {},
   "outputs": [],
   "source": [
    "def tokenize_text(text):\n",
    "    tokens = tokenize(text)\n",
    "    tokens = [t for t in tokens if len(t) > 4]\n",
    "    tokens = [t for t in tokens if t not in stops]\n",
    "    tokens = [get_lemma(t) for t in tokens]\n",
    "    return tokens"
   ]
  },
  {
   "cell_type": "code",
   "execution_count": null,
   "metadata": {},
   "outputs": [],
   "source": [
    "dataset2 = []\n",
    "vocab2 = []\n",
    "with open('dataset.csv') as f:\n",
    "    for line in f:\n",
    "        tokened_line = tokenize_text(line)\n",
    "        vocab2 += tokened_line\n",
    "        dataset2.append(tokened_line)"
   ]
  },
  {
   "cell_type": "code",
   "execution_count": null,
   "metadata": {},
   "outputs": [],
   "source": [
    "print(len(dataset2))"
   ]
  },
  {
   "cell_type": "markdown",
   "metadata": {},
   "source": [
    "## Preping data for LDA"
   ]
  },
  {
   "cell_type": "markdown",
   "metadata": {},
   "source": [
    "### For Dataset 1"
   ]
  },
  {
   "cell_type": "code",
   "execution_count": null,
   "metadata": {},
   "outputs": [],
   "source": [
    "vocab = list(set(vocab))\n",
    "word_to_ix = {w: i for i, w in enumerate(vocab)}\n",
    "\n",
    "def seq_to_ix(seq, vocab=vocab):\n",
    "    # len(vocab), which is the last index, is for the <unk> (unknown) token\n",
    "    unk_idx = len(vocab)\n",
    "    return np.array(list(map(lambda w: word_to_ix.get(w, unk_idx), seq)))\n",
    "\n",
    "data = {\n",
    "    \"data1\": list(map(seq_to_ix, dataset))\n",
    "}\n",
    "docs = data[\"data1\"]"
   ]
  },
  {
   "cell_type": "markdown",
   "metadata": {},
   "source": [
    "### For Dataset 2"
   ]
  },
  {
   "cell_type": "code",
   "execution_count": null,
   "metadata": {},
   "outputs": [],
   "source": [
    "vocab2 = list(set(vocab2))\n",
    "word_to_ix2 = {w: i for i, w in enumerate(vocab2)}\n",
    "\n",
    "def seq_to_ix(seq, vocab=vocab2):\n",
    "    # len(vocab), which is the last index, is for the <unk> (unknown) token\n",
    "    unk_idx = len(vocab)\n",
    "    return np.array(list(map(lambda w: word_to_ix2.get(w, unk_idx), seq)))\n",
    "\n",
    "data = {\n",
    "    \"data2\": list(map(seq_to_ix, dataset2))\n",
    "}\n",
    "docs2 = data[\"data2\"]"
   ]
  },
  {
   "cell_type": "markdown",
   "metadata": {},
   "source": [
    "## LDA with Gibbs"
   ]
  },
  {
   "cell_type": "code",
   "execution_count": null,
   "metadata": {},
   "outputs": [],
   "source": [
    "lda_news = LDA_sample(docs, vocab, n_topic=10)\n",
    "lda_news.run_gibbs()"
   ]
  },
  {
   "cell_type": "code",
   "execution_count": null,
   "metadata": {},
   "outputs": [],
   "source": [
    "def init_lda(docs, vocab, n_topic, random_state=0):\n",
    "\n",
    "    global V, k, N, M, alpha, eta, n_iw, n_di\n",
    "\n",
    "    np.random.seed(random_state)\n",
    "\n",
    "    V = len(vocab) # size of vocab\n",
    "    k = n_topic  # number of topics\n",
    "    # N = num words in each doc\n",
    "    N = np.array([doc.shape[0] for doc in docs])\n",
    "    M = len(docs) #num of docs\n",
    "\n",
    "    print(f\"V: {V}\\nk: {k}\\nN: {N[:10]}...\\nM: {M}\")\n",
    "\n",
    "    # alpha is initialized as a random gamma distribution, which acts as the parameter for the Dirichlet prior for topics\n",
    "    alpha = np.random.gamma(shape=100, scale=0.01, size=1)  # one for all k\n",
    "    # eta is similarly initialized for the Dirichlet prior for words\n",
    "    eta = np.random.gamma(shape=100, scale=0.01, size=1)  # one for all V\n",
    "    print(f\"alpha: {alpha}\\n_eta: {eta}\")\n",
    "    \n",
    "    # n_iw is a matrix for counting the number of times each word is assigned to each topic\n",
    "    n_iw = np.zeros((k, V), dtype=int)\n",
    "    # n_di is a matrix for counting the number of words in each document that are assigned to each topic\n",
    "    n_di = np.zeros((M, k), dtype=int)\n",
    "    print(f\"n_iw: dim {n_iw.shape}\\nn_di: dim {n_di.shape}\")\n",
    "    "
   ]
  },
  {
   "cell_type": "code",
   "execution_count": null,
   "metadata": {},
   "outputs": [],
   "source": [
    "def _init_gibbs(docs, vocab, n_topic, n_gibbs=2000):\n",
    "    \"\"\"\n",
    "    Initialize t=0 state for Gibbs sampling.\n",
    "    Replace initial word-topic assignment ndarray (M, N, N_GIBBS) in-place.\n",
    "    \"\"\"\n",
    "    # initialize variables\n",
    "    init_lda(docs, vocab, n_topic=n_topic)\n",
    "    \n",
    "    # word-topic assignment array (M, N, N_GIBBS)\n",
    "    global assign\n",
    "    N_max = max(N)\n",
    "    assign = np.zeros((M, N_max, n_gibbs+1), dtype=int)\n",
    "    print(f\"assign: dim {assign.shape}\")\n",
    "    \n",
    "    # initial assignment\n",
    "    for d in range(M):\n",
    "        for n in range(N[d]):\n",
    "            # randomly assign topic to word w_{dn}\n",
    "            w_dn = docs[d][n]\n",
    "            assign[d, n, 0] = np.random.randint(k)\n",
    "\n",
    "            # increment counters\n",
    "            i = assign[d, n, 0]\n",
    "            n_iw[i, w_dn] += 1\n",
    "            n_di[d, i] += 1"
   ]
  },
  {
   "cell_type": "code",
   "execution_count": null,
   "metadata": {},
   "outputs": [],
   "source": [
    "def _conditional_prob(w_dn, d):\n",
    "    \"\"\"\n",
    "    P(z_{dn}^i=1 | z_{(-dn)}, w)\n",
    "    \"\"\"\n",
    "    prob = np.empty(k)\n",
    "    \n",
    "    for i in range(k):\n",
    "        # P(w_dn | z_i)\n",
    "        _1 = (n_iw[i, w_dn] + eta) / (n_iw[i, :].sum() + V*eta)\n",
    "        # P(z_i | d)\n",
    "        _2 = (n_di[d, i] + alpha) / (n_di[d, :].sum() + k*alpha)\n",
    "        \n",
    "        prob[i] = _1 * _2\n",
    "    \n",
    "    return prob / prob.sum()"
   ]
  },
  {
   "cell_type": "code",
   "execution_count": null,
   "metadata": {},
   "outputs": [],
   "source": [
    "def run_gibbs(docs, vocab, n_topic, n_gibbs=2000):\n",
    "    \"\"\"\n",
    "    Run collapsed Gibbs sampling\n",
    "    \"\"\"\n",
    "    # initialize required variables\n",
    "    _init_gibbs(docs, vocab, n_topic, n_gibbs)\n",
    "    \n",
    "    print(\"\\n\", \"=\"*10, \"START SAMPLER\", \"=\"*10)\n",
    "    \n",
    "    # run the sampler\n",
    "    for t in range(n_gibbs):\n",
    "        for d in range(M):\n",
    "            for n in range(N[d]):\n",
    "                w_dn = docs[d][n]\n",
    "                \n",
    "                # decrement counters\n",
    "                i_t = assign[d, n, t]  # previous assignment\n",
    "                n_iw[i_t, w_dn] -= 1\n",
    "                n_di[d, i_t] -= 1\n",
    "\n",
    "                # assign new topics\n",
    "                prob = _conditional_prob(w_dn, d)\n",
    "                i_tp1 = np.argmax(np.random.multinomial(1, prob))\n",
    "\n",
    "                # increment counter according to new assignment\n",
    "                n_iw[i_tp1, w_dn] += 1\n",
    "                n_di[d, i_tp1] += 1\n",
    "                assign[d, n, t+1] = i_tp1\n",
    "        \n",
    "        # print out status\n",
    "        if ((t+1) % 50 == 0):\n",
    "            print(f\"Sampled {t+1}/{n_gibbs}\")"
   ]
  },
  {
   "cell_type": "markdown",
   "metadata": {},
   "source": [
    "### Run Gibbs for Dataset 1"
   ]
  },
  {
   "cell_type": "code",
   "execution_count": null,
   "metadata": {},
   "outputs": [],
   "source": []
  },
  {
   "cell_type": "code",
   "execution_count": null,
   "metadata": {},
   "outputs": [],
   "source": [
    "run_gibbs(docs, vocab, n_topic=10, n_gibbs=2000)"
   ]
  },
  {
   "cell_type": "code",
   "execution_count": null,
   "metadata": {},
   "outputs": [],
   "source": [
    "beta = np.empty((k,V))\n",
    "theta = np.empty((M, k))\n",
    "\n",
    "for j in range(V):\n",
    "    for i in range(k):\n",
    "        beta[i, j] = (n_iw[i, j] + eta) / (n_iw[i, :].sum() + V*eta)\n",
    "\n",
    "for d in range(M):\n",
    "    for i in range(k):\n",
    "        theta[d, i] = (n_di[d, i] + alpha) / (n_di[d, :].sum() + k*alpha)"
   ]
  },
  {
   "cell_type": "markdown",
   "metadata": {},
   "source": [
    "### Run Gibbs for Dataset 2"
   ]
  },
  {
   "cell_type": "code",
   "execution_count": null,
   "metadata": {},
   "outputs": [],
   "source": [
    "run_gibbs(docs2, vocab2, n_topic=10, n_gibbs=2000)"
   ]
  },
  {
   "cell_type": "code",
   "execution_count": null,
   "metadata": {},
   "outputs": [],
   "source": [
    "beta2 = np.empty((k,V))\n",
    "theta2 = np.empty((M, k))\n",
    "\n",
    "for j in range(V):\n",
    "    for i in range(k):\n",
    "        beta2[i, j] = (n_iw[i, j] + eta) / (n_iw[i, :].sum() + V*eta)\n",
    "\n",
    "for d in range(M):\n",
    "    for i in range(k):\n",
    "        theta2[d, i] = (n_di[d, i] + alpha) / (n_di[d, :].sum() + k*alpha)"
   ]
  },
  {
   "cell_type": "code",
   "execution_count": null,
   "metadata": {},
   "outputs": [],
   "source": []
  },
  {
   "cell_type": "markdown",
   "metadata": {},
   "source": [
    "## Evaulation"
   ]
  },
  {
   "cell_type": "code",
   "execution_count": null,
   "metadata": {},
   "outputs": [],
   "source": [
    "def n_most_important(beta_i,vocab,n):\n",
    "    \"\"\"\n",
    "    find the index of the largest `n` values in a list\n",
    "    \"\"\"\n",
    "    \n",
    "    max_values = beta_i.argsort()[-n:][::-1]\n",
    "    return np.array(vocab)[max_values]"
   ]
  },
  {
   "cell_type": "markdown",
   "metadata": {},
   "source": [
    "### Dataset 1"
   ]
  },
  {
   "cell_type": "code",
   "execution_count": null,
   "metadata": {},
   "outputs": [],
   "source": [
    "for i in range(k):\n",
    "    print(f\"TOPIC {i:02}: {n_most_important(beta[i],vocab,9)}\")"
   ]
  },
  {
   "cell_type": "markdown",
   "metadata": {},
   "source": [
    "### Dataset 2"
   ]
  },
  {
   "cell_type": "code",
   "execution_count": null,
   "metadata": {},
   "outputs": [],
   "source": [
    "for i in range(k):\n",
    "    print(f\"TOPIC {i:02}: {n_most_important(beta2[i],vocab2,9)}\")"
   ]
  }
 ],
 "metadata": {
  "kernelspec": {
   "display_name": "Python 3",
   "language": "python",
   "name": "python3"
  },
  "language_info": {
   "codemirror_mode": {
    "name": "ipython",
    "version": 3
   },
   "file_extension": ".py",
   "mimetype": "text/x-python",
   "name": "python",
   "nbconvert_exporter": "python",
   "pygments_lexer": "ipython3",
   "version": "3.9.12"
  }
 },
 "nbformat": 4,
 "nbformat_minor": 2
}
